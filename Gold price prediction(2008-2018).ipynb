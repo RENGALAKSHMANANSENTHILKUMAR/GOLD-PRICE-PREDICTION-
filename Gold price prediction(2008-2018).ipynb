{
 "cells": [
  {
   "cell_type": "code",
   "execution_count": 86,
   "id": "a7a6bbd4",
   "metadata": {},
   "outputs": [],
   "source": [
    "import pandas as pd\n",
    "import numpy as np\n",
    "import matplotlib.pyplot as plt\n",
    "import seaborn as sns\n",
    "from sklearn.ensemble import RandomForestRegressor\n",
    "from sklearn.model_selection import train_test_split\n",
    "from sklearn import metrics"
   ]
  },
  {
   "cell_type": "markdown",
   "id": "8e6910b5",
   "metadata": {},
   "source": [
    "Collecting and preprocessing"
   ]
  },
  {
   "cell_type": "code",
   "execution_count": 87,
   "id": "42b0ddf6",
   "metadata": {},
   "outputs": [
    {
     "data": {
      "text/html": [
       "<div>\n",
       "<style scoped>\n",
       "    .dataframe tbody tr th:only-of-type {\n",
       "        vertical-align: middle;\n",
       "    }\n",
       "\n",
       "    .dataframe tbody tr th {\n",
       "        vertical-align: top;\n",
       "    }\n",
       "\n",
       "    .dataframe thead th {\n",
       "        text-align: right;\n",
       "    }\n",
       "</style>\n",
       "<table border=\"1\" class=\"dataframe\">\n",
       "  <thead>\n",
       "    <tr style=\"text-align: right;\">\n",
       "      <th></th>\n",
       "      <th>Date</th>\n",
       "      <th>SPX</th>\n",
       "      <th>GLD</th>\n",
       "      <th>USO</th>\n",
       "      <th>SLV</th>\n",
       "      <th>EUR/USD</th>\n",
       "    </tr>\n",
       "  </thead>\n",
       "  <tbody>\n",
       "    <tr>\n",
       "      <th>0</th>\n",
       "      <td>1/2/2008</td>\n",
       "      <td>1447.160034</td>\n",
       "      <td>84.860001</td>\n",
       "      <td>78.470001</td>\n",
       "      <td>15.180</td>\n",
       "      <td>1.471692</td>\n",
       "    </tr>\n",
       "    <tr>\n",
       "      <th>1</th>\n",
       "      <td>1/3/2008</td>\n",
       "      <td>1447.160034</td>\n",
       "      <td>85.570000</td>\n",
       "      <td>78.370003</td>\n",
       "      <td>15.285</td>\n",
       "      <td>1.474491</td>\n",
       "    </tr>\n",
       "    <tr>\n",
       "      <th>2</th>\n",
       "      <td>1/4/2008</td>\n",
       "      <td>1411.630005</td>\n",
       "      <td>85.129997</td>\n",
       "      <td>77.309998</td>\n",
       "      <td>15.167</td>\n",
       "      <td>1.475492</td>\n",
       "    </tr>\n",
       "    <tr>\n",
       "      <th>3</th>\n",
       "      <td>1/7/2008</td>\n",
       "      <td>1416.180054</td>\n",
       "      <td>84.769997</td>\n",
       "      <td>75.500000</td>\n",
       "      <td>15.053</td>\n",
       "      <td>1.468299</td>\n",
       "    </tr>\n",
       "    <tr>\n",
       "      <th>4</th>\n",
       "      <td>1/8/2008</td>\n",
       "      <td>1390.189941</td>\n",
       "      <td>86.779999</td>\n",
       "      <td>76.059998</td>\n",
       "      <td>15.590</td>\n",
       "      <td>1.557099</td>\n",
       "    </tr>\n",
       "  </tbody>\n",
       "</table>\n",
       "</div>"
      ],
      "text/plain": [
       "       Date          SPX        GLD        USO     SLV   EUR/USD\n",
       "0  1/2/2008  1447.160034  84.860001  78.470001  15.180  1.471692\n",
       "1  1/3/2008  1447.160034  85.570000  78.370003  15.285  1.474491\n",
       "2  1/4/2008  1411.630005  85.129997  77.309998  15.167  1.475492\n",
       "3  1/7/2008  1416.180054  84.769997  75.500000  15.053  1.468299\n",
       "4  1/8/2008  1390.189941  86.779999  76.059998  15.590  1.557099"
      ]
     },
     "execution_count": 87,
     "metadata": {},
     "output_type": "execute_result"
    }
   ],
   "source": [
    "df = pd.read_csv(\"gld_price_data.csv\")\n",
    "df.head()"
   ]
  },
  {
   "cell_type": "code",
   "execution_count": 88,
   "id": "baa4d389",
   "metadata": {},
   "outputs": [
    {
     "data": {
      "text/html": [
       "<div>\n",
       "<style scoped>\n",
       "    .dataframe tbody tr th:only-of-type {\n",
       "        vertical-align: middle;\n",
       "    }\n",
       "\n",
       "    .dataframe tbody tr th {\n",
       "        vertical-align: top;\n",
       "    }\n",
       "\n",
       "    .dataframe thead th {\n",
       "        text-align: right;\n",
       "    }\n",
       "</style>\n",
       "<table border=\"1\" class=\"dataframe\">\n",
       "  <thead>\n",
       "    <tr style=\"text-align: right;\">\n",
       "      <th></th>\n",
       "      <th>Date</th>\n",
       "      <th>SPX</th>\n",
       "      <th>GLD</th>\n",
       "      <th>USO</th>\n",
       "      <th>SLV</th>\n",
       "      <th>EUR/USD</th>\n",
       "    </tr>\n",
       "  </thead>\n",
       "  <tbody>\n",
       "    <tr>\n",
       "      <th>2285</th>\n",
       "      <td>5/8/2018</td>\n",
       "      <td>2671.919922</td>\n",
       "      <td>124.589996</td>\n",
       "      <td>14.0600</td>\n",
       "      <td>15.5100</td>\n",
       "      <td>1.186789</td>\n",
       "    </tr>\n",
       "    <tr>\n",
       "      <th>2286</th>\n",
       "      <td>5/9/2018</td>\n",
       "      <td>2697.790039</td>\n",
       "      <td>124.330002</td>\n",
       "      <td>14.3700</td>\n",
       "      <td>15.5300</td>\n",
       "      <td>1.184722</td>\n",
       "    </tr>\n",
       "    <tr>\n",
       "      <th>2287</th>\n",
       "      <td>5/10/2018</td>\n",
       "      <td>2723.070068</td>\n",
       "      <td>125.180000</td>\n",
       "      <td>14.4100</td>\n",
       "      <td>15.7400</td>\n",
       "      <td>1.191753</td>\n",
       "    </tr>\n",
       "    <tr>\n",
       "      <th>2288</th>\n",
       "      <td>5/14/2018</td>\n",
       "      <td>2730.129883</td>\n",
       "      <td>124.489998</td>\n",
       "      <td>14.3800</td>\n",
       "      <td>15.5600</td>\n",
       "      <td>1.193118</td>\n",
       "    </tr>\n",
       "    <tr>\n",
       "      <th>2289</th>\n",
       "      <td>5/16/2018</td>\n",
       "      <td>2725.780029</td>\n",
       "      <td>122.543800</td>\n",
       "      <td>14.4058</td>\n",
       "      <td>15.4542</td>\n",
       "      <td>1.182033</td>\n",
       "    </tr>\n",
       "  </tbody>\n",
       "</table>\n",
       "</div>"
      ],
      "text/plain": [
       "           Date          SPX         GLD      USO      SLV   EUR/USD\n",
       "2285   5/8/2018  2671.919922  124.589996  14.0600  15.5100  1.186789\n",
       "2286   5/9/2018  2697.790039  124.330002  14.3700  15.5300  1.184722\n",
       "2287  5/10/2018  2723.070068  125.180000  14.4100  15.7400  1.191753\n",
       "2288  5/14/2018  2730.129883  124.489998  14.3800  15.5600  1.193118\n",
       "2289  5/16/2018  2725.780029  122.543800  14.4058  15.4542  1.182033"
      ]
     },
     "execution_count": 88,
     "metadata": {},
     "output_type": "execute_result"
    }
   ],
   "source": [
    "df.tail()"
   ]
  },
  {
   "cell_type": "markdown",
   "id": "856915ec",
   "metadata": {},
   "source": [
    "The given dataset contains the price of gold from 2008-2018 \n",
    "\n",
    "This dataset will contain 6 variables as follows:\n",
    "\n",
    "1. Date: date for which market data is collected.\n",
    "\n",
    "2. SPX: Standard & Poor's market-capitalization-weighted index of 500 leading publicly traded companies in the U.S.\n",
    "\n",
    "3. GLD: SPDR Gold Shares ETF.\n",
    "\n",
    "4. USO: The United States Oil Fund, ETF.\n",
    "\n",
    "5. SLV: Silver ETF. Purely reflects the price movements of silver.\n",
    "\n",
    "6. EUR/USD: euro against U.S. dollar pair."
   ]
  },
  {
   "cell_type": "code",
   "execution_count": 89,
   "id": "1a6489b3",
   "metadata": {},
   "outputs": [
    {
     "data": {
      "text/plain": [
       "(2290, 6)"
      ]
     },
     "execution_count": 89,
     "metadata": {},
     "output_type": "execute_result"
    }
   ],
   "source": [
    "df.shape # no of rows and columns"
   ]
  },
  {
   "cell_type": "code",
   "execution_count": 90,
   "id": "5a27083c",
   "metadata": {},
   "outputs": [
    {
     "data": {
      "text/html": [
       "<div>\n",
       "<style scoped>\n",
       "    .dataframe tbody tr th:only-of-type {\n",
       "        vertical-align: middle;\n",
       "    }\n",
       "\n",
       "    .dataframe tbody tr th {\n",
       "        vertical-align: top;\n",
       "    }\n",
       "\n",
       "    .dataframe thead th {\n",
       "        text-align: right;\n",
       "    }\n",
       "</style>\n",
       "<table border=\"1\" class=\"dataframe\">\n",
       "  <thead>\n",
       "    <tr style=\"text-align: right;\">\n",
       "      <th></th>\n",
       "      <th>SPX</th>\n",
       "      <th>GLD</th>\n",
       "      <th>USO</th>\n",
       "      <th>SLV</th>\n",
       "      <th>EUR/USD</th>\n",
       "    </tr>\n",
       "  </thead>\n",
       "  <tbody>\n",
       "    <tr>\n",
       "      <th>count</th>\n",
       "      <td>2290.000000</td>\n",
       "      <td>2290.000000</td>\n",
       "      <td>2290.000000</td>\n",
       "      <td>2290.000000</td>\n",
       "      <td>2290.000000</td>\n",
       "    </tr>\n",
       "    <tr>\n",
       "      <th>mean</th>\n",
       "      <td>1654.315776</td>\n",
       "      <td>122.732875</td>\n",
       "      <td>31.842221</td>\n",
       "      <td>20.084997</td>\n",
       "      <td>1.283653</td>\n",
       "    </tr>\n",
       "    <tr>\n",
       "      <th>std</th>\n",
       "      <td>519.111540</td>\n",
       "      <td>23.283346</td>\n",
       "      <td>19.523517</td>\n",
       "      <td>7.092566</td>\n",
       "      <td>0.131547</td>\n",
       "    </tr>\n",
       "    <tr>\n",
       "      <th>min</th>\n",
       "      <td>676.530029</td>\n",
       "      <td>70.000000</td>\n",
       "      <td>7.960000</td>\n",
       "      <td>8.850000</td>\n",
       "      <td>1.039047</td>\n",
       "    </tr>\n",
       "    <tr>\n",
       "      <th>25%</th>\n",
       "      <td>1239.874969</td>\n",
       "      <td>109.725000</td>\n",
       "      <td>14.380000</td>\n",
       "      <td>15.570000</td>\n",
       "      <td>1.171313</td>\n",
       "    </tr>\n",
       "    <tr>\n",
       "      <th>50%</th>\n",
       "      <td>1551.434998</td>\n",
       "      <td>120.580002</td>\n",
       "      <td>33.869999</td>\n",
       "      <td>17.268500</td>\n",
       "      <td>1.303297</td>\n",
       "    </tr>\n",
       "    <tr>\n",
       "      <th>75%</th>\n",
       "      <td>2073.010070</td>\n",
       "      <td>132.840004</td>\n",
       "      <td>37.827501</td>\n",
       "      <td>22.882500</td>\n",
       "      <td>1.369971</td>\n",
       "    </tr>\n",
       "    <tr>\n",
       "      <th>max</th>\n",
       "      <td>2872.870117</td>\n",
       "      <td>184.589996</td>\n",
       "      <td>117.480003</td>\n",
       "      <td>47.259998</td>\n",
       "      <td>1.598798</td>\n",
       "    </tr>\n",
       "  </tbody>\n",
       "</table>\n",
       "</div>"
      ],
      "text/plain": [
       "               SPX          GLD          USO          SLV      EUR/USD\n",
       "count  2290.000000  2290.000000  2290.000000  2290.000000  2290.000000\n",
       "mean   1654.315776   122.732875    31.842221    20.084997     1.283653\n",
       "std     519.111540    23.283346    19.523517     7.092566     0.131547\n",
       "min     676.530029    70.000000     7.960000     8.850000     1.039047\n",
       "25%    1239.874969   109.725000    14.380000    15.570000     1.171313\n",
       "50%    1551.434998   120.580002    33.869999    17.268500     1.303297\n",
       "75%    2073.010070   132.840004    37.827501    22.882500     1.369971\n",
       "max    2872.870117   184.589996   117.480003    47.259998     1.598798"
      ]
     },
     "execution_count": 90,
     "metadata": {},
     "output_type": "execute_result"
    }
   ],
   "source": [
    "df.describe() #statiscal descriptions of the dataset"
   ]
  },
  {
   "cell_type": "code",
   "execution_count": 91,
   "id": "73b4d7c9",
   "metadata": {},
   "outputs": [
    {
     "name": "stdout",
     "output_type": "stream",
     "text": [
      "<class 'pandas.core.frame.DataFrame'>\n",
      "RangeIndex: 2290 entries, 0 to 2289\n",
      "Data columns (total 6 columns):\n",
      " #   Column   Non-Null Count  Dtype  \n",
      "---  ------   --------------  -----  \n",
      " 0   Date     2290 non-null   object \n",
      " 1   SPX      2290 non-null   float64\n",
      " 2   GLD      2290 non-null   float64\n",
      " 3   USO      2290 non-null   float64\n",
      " 4   SLV      2290 non-null   float64\n",
      " 5   EUR/USD  2290 non-null   float64\n",
      "dtypes: float64(5), object(1)\n",
      "memory usage: 107.5+ KB\n"
     ]
    }
   ],
   "source": [
    "df.info() #information about the columns and rows and every observations"
   ]
  },
  {
   "cell_type": "code",
   "execution_count": 92,
   "id": "a7f816c7",
   "metadata": {},
   "outputs": [
    {
     "data": {
      "text/plain": [
       "Date       0\n",
       "SPX        0\n",
       "GLD        0\n",
       "USO        0\n",
       "SLV        0\n",
       "EUR/USD    0\n",
       "dtype: int64"
      ]
     },
     "execution_count": 92,
     "metadata": {},
     "output_type": "execute_result"
    }
   ],
   "source": [
    "df.isnull().sum() #checking for null values in the dataset"
   ]
  },
  {
   "cell_type": "markdown",
   "id": "8c605573",
   "metadata": {},
   "source": [
    "Correlation factors "
   ]
  },
  {
   "cell_type": "code",
   "execution_count": 93,
   "id": "bd5806c9",
   "metadata": {},
   "outputs": [],
   "source": [
    "correlation = df.corr () #finding the correaltion of features for the dataset"
   ]
  },
  {
   "cell_type": "code",
   "execution_count": 94,
   "id": "3dcc5279",
   "metadata": {},
   "outputs": [
    {
     "data": {
      "text/plain": [
       "<AxesSubplot:>"
      ]
     },
     "execution_count": 94,
     "metadata": {},
     "output_type": "execute_result"
    },
    {
     "data": {
      "image/png": "[encoded data removed]",
      "text/plain": [
       "<Figure size 576x576 with 2 Axes>"
      ]
     },
     "metadata": {
      "needs_background": "light"
     },
     "output_type": "display_data"
    }
   ],
   "source": [
    "#plotting a heat map to understand the correlation\n",
    "plt.figure(figsize=(8,8))\n",
    "sns.heatmap(correlation, cbar=True, square=True, fmt='.2f',annot=True, annot_kws={'size':7}, cmap='Greens')"
   ]
  },
  {
   "cell_type": "code",
   "execution_count": 95,
   "id": "a77e7c97",
   "metadata": {},
   "outputs": [
    {
     "name": "stdout",
     "output_type": "stream",
     "text": [
      "SPX        0.049345\n",
      "GLD        1.000000\n",
      "USO       -0.186360\n",
      "SLV        0.866632\n",
      "EUR/USD   -0.024375\n",
      "Name: GLD, dtype: float64\n"
     ]
    }
   ],
   "source": [
    "#correaltion values of gold as it is the target\n",
    "\n",
    "print(correlation['GLD'])"
   ]
  },
  {
   "cell_type": "markdown",
   "id": "eb664724",
   "metadata": {},
   "source": [
    "From this we can anlyze that silver is highly correlated with gold , if price of gold rises most propably silver is expected to rise .\n",
    "The USO and price are slightly negatively correalted"
   ]
  },
  {
   "cell_type": "code",
   "execution_count": 96,
   "id": "c242e0ab",
   "metadata": {},
   "outputs": [
    {
     "name": "stderr",
     "output_type": "stream",
     "text": [
      "C:\\Users\\Rengalakshmanan S\\anaconda3\\lib\\site-packages\\seaborn\\distributions.py:2619: FutureWarning: `distplot` is a deprecated function and will be removed in a future version. Please adapt your code to use either `displot` (a figure-level function with similar flexibility) or `histplot` (an axes-level function for histograms).\n",
      "  warnings.warn(msg, FutureWarning)\n"
     ]
    },
    {
     "data": {
      "text/plain": [
       "<AxesSubplot:xlabel='GLD', ylabel='Density'>"
      ]
     },
     "execution_count": 96,
     "metadata": {},
     "output_type": "execute_result"
    },
    {
     "data": {
      "image/png": "[encoded data removed]",
      "text/plain": [
       "<Figure size 432x288 with 1 Axes>"
      ]
     },
     "metadata": {
      "needs_background": "light"
     },
     "output_type": "display_data"
    }
   ],
   "source": [
    "#check the distribution of the gold price using dist plot\n",
    "\n",
    "sns.distplot(df['GLD'],color='Red')"
   ]
  },
  {
   "cell_type": "markdown",
   "id": "7c7add25",
   "metadata": {},
   "source": [
    "From this distribution , we can see that most of the gold price ranges between 100 to 140 and there is a bump between 80 to 100 and 150 to 170."
   ]
  },
  {
   "cell_type": "code",
   "execution_count": 105,
   "id": "5d42eba5",
   "metadata": {},
   "outputs": [],
   "source": [
    "#model building\n",
    "#splitting the features;\n",
    "\n",
    "X = df.drop(['Date','GLD'],axis=1)\n",
    "Y = df['GLD']\n"
   ]
  },
  {
   "cell_type": "code",
   "execution_count": 106,
   "id": "6c4ac672",
   "metadata": {},
   "outputs": [
    {
     "name": "stdout",
     "output_type": "stream",
     "text": [
      "              SPX        USO      SLV   EUR/USD\n",
      "0     1447.160034  78.470001  15.1800  1.471692\n",
      "1     1447.160034  78.370003  15.2850  1.474491\n",
      "2     1411.630005  77.309998  15.1670  1.475492\n",
      "3     1416.180054  75.500000  15.0530  1.468299\n",
      "4     1390.189941  76.059998  15.5900  1.557099\n",
      "...           ...        ...      ...       ...\n",
      "2285  2671.919922  14.060000  15.5100  1.186789\n",
      "2286  2697.790039  14.370000  15.5300  1.184722\n",
      "2287  2723.070068  14.410000  15.7400  1.191753\n",
      "2288  2730.129883  14.380000  15.5600  1.193118\n",
      "2289  2725.780029  14.405800  15.4542  1.182033\n",
      "\n",
      "[2290 rows x 4 columns]\n"
     ]
    }
   ],
   "source": [
    "print(X)"
   ]
  },
  {
   "cell_type": "code",
   "execution_count": 107,
   "id": "27c66bf2",
   "metadata": {},
   "outputs": [
    {
     "name": "stdout",
     "output_type": "stream",
     "text": [
      "0        84.860001\n",
      "1        85.570000\n",
      "2        85.129997\n",
      "3        84.769997\n",
      "4        86.779999\n",
      "           ...    \n",
      "2285    124.589996\n",
      "2286    124.330002\n",
      "2287    125.180000\n",
      "2288    124.489998\n",
      "2289    122.543800\n",
      "Name: GLD, Length: 2290, dtype: float64\n"
     ]
    }
   ],
   "source": [
    "print(Y)"
   ]
  },
  {
   "cell_type": "code",
   "execution_count": 108,
   "id": "4a79ce1b",
   "metadata": {},
   "outputs": [],
   "source": [
    "X_train, X_test, Y_train, Y_test = train_test_split(X, Y, test_size = 0.2, random_state=2)"
   ]
  },
  {
   "cell_type": "code",
   "execution_count": 109,
   "id": "c144b7f8",
   "metadata": {},
   "outputs": [
    {
     "data": {
      "text/plain": [
       "1832"
      ]
     },
     "execution_count": 109,
     "metadata": {},
     "output_type": "execute_result"
    }
   ],
   "source": [
    "len(X_train)"
   ]
  },
  {
   "cell_type": "code",
   "execution_count": 110,
   "id": "502d1612",
   "metadata": {},
   "outputs": [
    {
     "data": {
      "text/plain": [
       "458"
      ]
     },
     "execution_count": 110,
     "metadata": {},
     "output_type": "execute_result"
    }
   ],
   "source": [
    "len(X_test)"
   ]
  },
  {
   "cell_type": "code",
   "execution_count": 111,
   "id": "a7fd0441",
   "metadata": {},
   "outputs": [
    {
     "data": {
      "text/plain": [
       "1832"
      ]
     },
     "execution_count": 111,
     "metadata": {},
     "output_type": "execute_result"
    }
   ],
   "source": [
    "len(y_train)"
   ]
  },
  {
   "cell_type": "code",
   "execution_count": 112,
   "id": "dad69311",
   "metadata": {},
   "outputs": [
    {
     "data": {
      "text/plain": [
       "458"
      ]
     },
     "execution_count": 112,
     "metadata": {},
     "output_type": "execute_result"
    }
   ],
   "source": [
    "len(y_test)"
   ]
  },
  {
   "cell_type": "code",
   "execution_count": null,
   "id": "b86a9581",
   "metadata": {},
   "outputs": [],
   "source": []
  },
  {
   "cell_type": "markdown",
   "id": "840c5036",
   "metadata": {},
   "source": [
    "Model training : Random Forest Regressor\n"
   ]
  },
  {
   "cell_type": "code",
   "execution_count": 113,
   "id": "965444ea",
   "metadata": {},
   "outputs": [],
   "source": [
    "regressor = RandomForestRegressor(n_estimators=100)"
   ]
  },
  {
   "cell_type": "code",
   "execution_count": 114,
   "id": "f4b924cd",
   "metadata": {},
   "outputs": [
    {
     "data": {
      "text/plain": [
       "RandomForestRegressor()"
      ]
     },
     "execution_count": 114,
     "metadata": {},
     "output_type": "execute_result"
    }
   ],
   "source": [
    "regressor.fit(X_train,Y_train)"
   ]
  },
  {
   "cell_type": "markdown",
   "id": "075b2d44",
   "metadata": {},
   "source": [
    "\n",
    "\n",
    "Model evaluation"
   ]
  },
  {
   "cell_type": "code",
   "execution_count": 115,
   "id": "99756b88",
   "metadata": {},
   "outputs": [],
   "source": [
    "#prediction on test data\n",
    "\n",
    "test_data_prediction = regressor.predict(X_test)"
   ]
  },
  {
   "cell_type": "code",
   "execution_count": 116,
   "id": "e1ec897a",
   "metadata": {},
   "outputs": [
    {
     "name": "stdout",
     "output_type": "stream",
     "text": [
      "[168.42239929  82.09769981 116.14019983 127.65960068 120.73000142\n",
      " 154.77689786 150.27829859 126.12590003 117.48119886 125.83990071\n",
      " 116.5454007  171.53170089 141.16799856 168.01809844 115.07449994\n",
      " 117.37260065 138.2017035  169.76360027 159.680203   158.63849877\n",
      " 155.25670041 125.17070061 177.17249934 157.61450334 125.28180069\n",
      "  93.70389975  77.1694004  120.73120018 119.10279928 167.50800015\n",
      "  88.13950059 125.35680027  91.07860055 117.82140005 121.06939946\n",
      " 136.57800129 115.44190158 115.36010075 148.01489972 107.12030091\n",
      " 104.49040244  87.16639796 126.42290021 117.97379987 154.48259917\n",
      " 119.67829993 108.43359963 107.99489828  93.4073007  127.02089791\n",
      "  74.9207002  113.71519913 121.13950001 111.2282997  118.86129893\n",
      " 120.62979941 159.50760003 167.18360197 147.14669611  85.87289882\n",
      "  94.40510027  86.77619899  90.51690032 119.05960068 126.49420037\n",
      " 127.43440009 168.49309943 122.30169961 117.53219899  98.5391003\n",
      " 168.03600164 142.96889911 132.01940217 121.1359022  121.19699926\n",
      " 119.49980081 114.50930155 118.39290071 107.08330106 127.85340062\n",
      " 114.03429951 107.11860005 117.09970029 119.51909913  89.03850054\n",
      "  88.20269845 146.84940263 127.27060076 113.12799999 110.4655985\n",
      " 108.05539902  77.07629931 169.22710231 113.91569898 121.64729912\n",
      " 127.76510176 154.9697983   91.72809969 135.68030094 158.24840221\n",
      " 125.76780011 125.5582004  130.56140218 114.76520123 119.84660036\n",
      "  92.08989951 110.16259885 166.71869925 157.95519914 114.15829955\n",
      " 106.52230135  79.77709976 113.1224006  125.80020077 107.46489953\n",
      " 119.17560069 156.0727031  159.93629905 120.23050003 134.05140362\n",
      " 101.57269959 117.6710981  119.30410037 112.80520071 102.82409935\n",
      " 160.09469806  98.64000021 148.07239889 125.66630099 169.66159947\n",
      " 125.69109909 127.52979671 127.56950194 113.69949927 113.06460052\n",
      " 123.87889899 102.31109905  89.23119995 124.88629958 101.60499945\n",
      " 106.85569908 113.55680076 117.13920107  98.85949939 121.73250027\n",
      " 163.94289895  87.41379927 106.40819955 117.20010058 127.66250149\n",
      " 124.14950048  80.69159931 120.47340084 158.04869829  87.98010011\n",
      " 110.18439938 118.8693994  171.84449879 103.04209892 105.70210049\n",
      " 122.33250026 158.1370979   87.56289848  93.0027005  112.76190004\n",
      " 178.47309896 114.5496995  119.24650006  94.75000089 125.78439974\n",
      " 166.46400126 114.59880088 116.69390107  88.31299845 149.23710096\n",
      " 120.33799952  89.6848001  112.24420027 117.31740022 118.554501\n",
      "  88.21479992  94.22040002 116.99530007 118.62970198 120.37529997\n",
      " 126.77959791 121.88089992 150.50480037 165.23860045 118.65929949\n",
      " 120.39250156 149.96120022 118.58979873 172.2680991  105.38479927\n",
      " 104.9777011  149.24240095 113.69610046 124.84000146 147.54679932\n",
      " 119.71760106 115.17900062 112.24290034 113.58410193 139.65220158\n",
      " 117.88139759 102.93250053 115.93980101 103.91860192  98.73850041\n",
      " 117.34880109  90.61850004  91.74020027 153.14129936 102.74299997\n",
      " 154.0302009  114.53370179 138.57710129  90.06229786 115.63849918\n",
      " 114.68609955 122.68920061 121.81430025 165.63530162  92.84329929\n",
      " 135.75070163 121.34959894 120.75490068 104.5692003  140.95780293\n",
      " 121.49529932 116.80980037 113.34140099 127.0318975  122.43759938\n",
      " 125.76190044 121.24940025  86.90429894 132.40130133 143.91610214\n",
      "  92.62139927 157.72689967 158.58370228 126.58669852 164.33469925\n",
      " 108.77139994 109.73000095 103.52599809  94.13730127 127.22350242\n",
      " 106.93670054 160.42489984 121.67350011 132.0755998  130.53470175\n",
      " 160.05440031  90.22919814 177.28370189 127.77290041 126.67199898\n",
      "  86.21799925 124.51309947 150.51219735  89.6984001  106.5750997\n",
      " 109.03290014  84.28229908 135.76749992 155.17180285 138.0482044\n",
      "  74.47750019 151.26150111 126.4004     126.72770028 127.52179945\n",
      " 108.66689955 156.09120057 114.51750113 116.83500146 125.74489958\n",
      " 153.90590101 121.3279001  156.47129854  93.00490084 125.49150153\n",
      " 125.60030023  87.68859996  92.51829905 126.16839931 128.57210391\n",
      " 113.01229989 117.65379724 120.77540035 127.21649754 119.57750078\n",
      " 136.66710073  93.90989914 119.81130045 112.95070099  94.3613996\n",
      " 109.04479942  87.64549921 109.08379927  89.71799968  92.44440018\n",
      " 131.44910354 162.34350105  89.55409986 119.545701   133.25250179\n",
      " 123.85180042 128.38430222 102.05919865  89.16679927 132.0865009\n",
      " 119.97490041 108.42039981 168.39840139 115.17310039  86.59879923\n",
      " 118.65110075  90.99399967 161.71850026 116.66500056 121.60259997\n",
      " 160.19859781 119.86969936 112.44909967 108.4685986  126.83600001\n",
      "  76.46670016 103.05439973 127.03350245 121.78479938  92.51050003\n",
      " 132.37200077 118.2158013  116.00479993 154.72450249 159.80410086\n",
      " 110.11379941 151.42089743 119.22410093 160.448201   118.56390045\n",
      " 158.13429922 115.13539928 116.48390018 149.90069873 114.78370084\n",
      " 125.51069893 164.94939897 117.6765     125.04529945 153.48750315\n",
      " 153.45880229 132.17860029 114.76240061 121.19430209 124.99670074\n",
      "  89.6428006  123.38919977 154.781302   111.74460046 106.48299958\n",
      " 162.04910176 118.71840014 165.78500028 134.12420107 114.64939988\n",
      " 153.17139965 168.85540006 114.77359988 114.07410123 159.97459936\n",
      "  85.246099   127.06980098 127.74200043 128.99279995 124.20220051\n",
      " 123.93980066  90.44670055 153.3558004   97.17679974 137.05349933\n",
      "  89.21479952 107.08609996 114.90020027 112.72380074 124.39939918\n",
      "  91.28549901 125.37520109 162.37319956 119.89859936 165.16350122\n",
      " 126.90769781 112.29900012 127.55789913  94.93369913  90.94599976\n",
      " 102.87529907 120.72500005  83.21619948 126.2463997  160.53680431\n",
      " 117.27880066 118.18419995 120.09729972 122.75669979 120.12800125\n",
      " 121.46930038 118.30340078 106.92669989 148.31419943 126.0633991\n",
      " 115.6206007   73.94740023 127.82850143 154.82250067 122.02069997\n",
      " 125.57340062  88.85290001 104.19139866 124.66810009 120.2469002\n",
      "  73.41750066 151.5322997  120.94390045 104.55599974  86.46219791\n",
      " 114.93059925 172.22789859 119.95580047 160.17489778 113.10899967\n",
      " 121.26530006 118.81250111  95.88469981 118.59960049 125.71430013\n",
      " 118.58369927  95.85590032 154.09860164 122.17100017 147.58169951\n",
      " 159.57820178 113.62390015 122.43209953 150.15899818 126.97600036\n",
      " 165.62600025 135.68149997 120.12299971 167.12189902 108.38059886\n",
      " 121.73129842 138.19670137 106.61099888]\n"
     ]
    }
   ],
   "source": [
    "print(test_data_prediction)"
   ]
  },
  {
   "cell_type": "markdown",
   "id": "717e1d90",
   "metadata": {},
   "source": [
    "let's try some input giving and look at the results"
   ]
  },
  {
   "cell_type": "code",
   "execution_count": 122,
   "id": "92c0dfee",
   "metadata": {},
   "outputs": [
    {
     "name": "stderr",
     "output_type": "stream",
     "text": [
      "C:\\Users\\Rengalakshmanan S\\anaconda3\\lib\\site-packages\\sklearn\\base.py:450: UserWarning: X does not have valid feature names, but RandomForestRegressor was fitted with feature names\n",
      "  warnings.warn(\n"
     ]
    },
    {
     "data": {
      "text/plain": [
       "array([121.91089914])"
      ]
     },
     "execution_count": 122,
     "metadata": {},
     "output_type": "execute_result"
    }
   ],
   "source": [
    "regressor.predict([[18576.160034,  78.370003 , 15.2850 , 1.474491]])"
   ]
  },
  {
   "cell_type": "code",
   "execution_count": 125,
   "id": "30251555",
   "metadata": {},
   "outputs": [
    {
     "name": "stdout",
     "output_type": "stream",
     "text": [
      "R squared error is  0.9900588991362393\n"
     ]
    }
   ],
   "source": [
    "#r squared error\n",
    "\n",
    "error_score = metrics.r2_score(Y_test,test_data_prediction)\n",
    "print(\"R squared error is \", error_score)"
   ]
  },
  {
   "cell_type": "markdown",
   "id": "af0bbbf1",
   "metadata": {},
   "source": [
    "Compare the Actual Values and Predicted Values in a Plot\n"
   ]
  },
  {
   "cell_type": "code",
   "execution_count": 131,
   "id": "ed31433d",
   "metadata": {},
   "outputs": [
    {
     "data": {
      "image/png": "[encoded data removed]",
      "text/plain": [
       "<Figure size 432x288 with 1 Axes>"
      ]
     },
     "metadata": {
      "needs_background": "light"
     },
     "output_type": "display_data"
    }
   ],
   "source": [
    "plt.plot(Y_test,color='green', label='actual value')\n",
    "plt.plot(test_data_prediction, color= 'brown', label = 'Predicted value')\n",
    "plt.title('Actual Price vs Predicted Price')\n",
    "plt.xlabel('Number of values')\n",
    "plt.ylabel('GLD Price')\n",
    "plt.legend()\n",
    "plt.show()"
   ]
  },
  {
   "cell_type": "code",
   "execution_count": 133,
   "id": "576a281e",
   "metadata": {},
   "outputs": [
    {
     "data": {
      "text/plain": [
       "0.9900588991362393"
      ]
     },
     "execution_count": 133,
     "metadata": {},
     "output_type": "execute_result"
    }
   ],
   "source": [
    "regressor.score(X_test,Y_test)"
   ]
  },
  {
   "cell_type": "markdown",
   "id": "1556bd01",
   "metadata": {},
   "source": [
    "from this we can assume that most propably the predicted values match the actual values.\n",
    "Hurray !! we predicted."
   ]
  }
 ],
 "metadata": {
  "kernelspec": {
   "display_name": "Python 3 (ipykernel)",
   "language": "python",
   "name": "python3"
  },
  "language_info": {
   "codemirror_mode": {
    "name": "ipython",
    "version": 3
   },
   "file_extension": ".py",
   "mimetype": "text/x-python",
   "name": "python",
   "nbconvert_exporter": "python",
   "pygments_lexer": "ipython3",
   "version": "3.9.12"
  }
 },
 "nbformat": 4,
 "nbformat_minor": 5
}
